{
 "cells": [
  {
   "cell_type": "code",
   "execution_count": 1,
   "metadata": {},
   "outputs": [],
   "source": [
    "import numpy as np\n",
    "import pandas as pd"
   ]
  },
  {
   "cell_type": "code",
   "execution_count": 2,
   "metadata": {},
   "outputs": [],
   "source": [
    "pd.set_option('display.max_columns', None)\n",
    "\n",
    "train_data = pd.read_csv('Data/train.csv')\n",
    "test_data = pd.read_csv(\"Data/test.csv\")"
   ]
  },
  {
   "cell_type": "code",
   "execution_count": 4,
   "metadata": {},
   "outputs": [
    {
     "name": "stdout",
     "output_type": "stream",
     "text": [
      "15 categories\n",
      "{'coe car', 'consignment car', 'low mileage car', 'vintage cars', 'almost new car', 'premium ad car', 'rare & exotic', 'sta evaluated car', 'sgcarmart warranty cars', 'parf car', 'imported used vehicle', 'hybrid cars', 'direct owner sale', 'electric cars', 'opc car'}\n"
     ]
    }
   ],
   "source": [
    "category = train_data['category']\n",
    "\n",
    "set_category = set()\n",
    "for c in category:\n",
    "    c_arr = c.split(',')\n",
    "    c_arr = [x.strip() for x in c_arr if x != '' and x != '-']\n",
    "    set_category.update(c_arr)\n",
    "print(\"{} categories\".format(len(set_category)))\n",
    "print(set_category)\n",
    "\n"
   ]
  }
 ],
 "metadata": {
  "kernelspec": {
   "display_name": "work",
   "language": "python",
   "name": "python3"
  },
  "language_info": {
   "codemirror_mode": {
    "name": "ipython",
    "version": 3
   },
   "file_extension": ".py",
   "mimetype": "text/x-python",
   "name": "python",
   "nbconvert_exporter": "python",
   "pygments_lexer": "ipython3",
   "version": "3.9.18"
  }
 },
 "nbformat": 4,
 "nbformat_minor": 2
}
